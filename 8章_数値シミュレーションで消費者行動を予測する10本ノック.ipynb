{
  "cells": [
    {
      "cell_type": "markdown",
      "metadata": {
        "id": "view-in-github",
        "colab_type": "text"
      },
      "source": [
        "<a href=\"https://colab.research.google.com/github/yuhki777/practice/blob/main/8%E7%AB%A0_%E6%95%B0%E5%80%A4%E3%82%B7%E3%83%9F%E3%83%A5%E3%83%AC%E3%83%BC%E3%82%B7%E3%83%A7%E3%83%B3%E3%81%A7%E6%B6%88%E8%B2%BB%E8%80%85%E8%A1%8C%E5%8B%95%E3%82%92%E4%BA%88%E6%B8%AC%E3%81%99%E3%82%8B10%E6%9C%AC%E3%83%8E%E3%83%83%E3%82%AF.ipynb\" target=\"_parent\"><img src=\"https://colab.research.google.com/assets/colab-badge.svg\" alt=\"Open In Colab\"/></a>"
      ]
    },
    {
      "cell_type": "code",
      "source": [
        "# Google Driveと接続を行います。これを行うことで、Driveにあるデータにアクセスできるようになります。\n",
        "# 下記セルを実行すると、Googleアカウントのログインを求められますのでログインしてください。\n",
        "from google.colab import drive\n",
        "drive.mount('/content/drive')"
      ],
      "metadata": {
        "id": "y8UuWTOSL4c1",
        "colab": {
          "base_uri": "https://localhost:8080/"
        },
        "outputId": "e20bd902-f480-40d4-fb49-0ad63268661d"
      },
      "execution_count": null,
      "outputs": [
        {
          "output_type": "stream",
          "name": "stdout",
          "text": [
            "Mounted at /content/drive\n"
          ]
        }
      ]
    },
    {
      "cell_type": "code",
      "source": [
        "# 作業フォルダへの移動を行います。\n",
        "# 人によって作業場所がことなるので、その場合作業場所を変更してください。\n",
        "import os \n",
        "os.chdir('/content/drive/MyDrive/100knock-data_analytics/8章') #ここを変更。"
      ],
      "metadata": {
        "id": "sZkOlL3OL5k3"
      },
      "execution_count": null,
      "outputs": []
    },
    {
      "cell_type": "markdown",
      "metadata": {
        "id": "XgId55J8XLT3"
      },
      "source": [
        "# 8章 数値シミュレーションで消費者行動を予測する10本ノック\n",
        "\n",
        "ここでは、消費者行動が口コミなどの情報伝播によってどのように変化していくかを分析する、  \n",
        "人間関係のネットワーク構造を用いた数値シミュレーション手法を中心に学んでいきます。"
      ]
    },
    {
      "cell_type": "markdown",
      "metadata": {
        "id": "stY2jCebXLT4"
      },
      "source": [
        "### ノック71：人間関係のネットワークを可視化してみよう"
      ]
    },
    {
      "cell_type": "code",
      "execution_count": null,
      "metadata": {
        "id": "OQV_NGcDXLT4",
        "colab": {
          "base_uri": "https://localhost:8080/",
          "height": 237
        },
        "outputId": "e0e92b9f-4718-4754-e51f-fa211d9b16a2"
      },
      "outputs": [
        {
          "output_type": "execute_result",
          "data": {
            "text/plain": [
              "       Node0  Node1  Node2  Node3  Node4  Node5  Node6  Node7  Node8  Node9  \\\n",
              "Node                                                                          \n",
              "Node0      0      0      0      0      0      1      0      0      0      0   \n",
              "Node1      0      0      0      0      0      1      0      0      0      0   \n",
              "Node2      0      0      0      0      1      1      1      0      0      0   \n",
              "Node3      0      0      0      0      0      0      0      1      0      0   \n",
              "Node4      0      0      1      0      0      0      0      1      1      0   \n",
              "\n",
              "       Node10  Node11  Node12  Node13  Node14  Node15  Node16  Node17  Node18  \\\n",
              "Node                                                                            \n",
              "Node0       0       0       0       0       0       1       0       0       0   \n",
              "Node1       0       1       0       1       0       0       1       0       0   \n",
              "Node2       1       0       0       0       0       0       0       0       0   \n",
              "Node3       0       0       0       0       0       1       0       0       0   \n",
              "Node4       1       0       0       0       0       1       0       0       0   \n",
              "\n",
              "       Node19  \n",
              "Node           \n",
              "Node0       0  \n",
              "Node1       0  \n",
              "Node2       0  \n",
              "Node3       0  \n",
              "Node4       0  "
            ],
            "text/html": [
              "\n",
              "  <div id=\"df-29984e87-6ff9-4cc7-b208-161a6a47b099\">\n",
              "    <div class=\"colab-df-container\">\n",
              "      <div>\n",
              "<style scoped>\n",
              "    .dataframe tbody tr th:only-of-type {\n",
              "        vertical-align: middle;\n",
              "    }\n",
              "\n",
              "    .dataframe tbody tr th {\n",
              "        vertical-align: top;\n",
              "    }\n",
              "\n",
              "    .dataframe thead th {\n",
              "        text-align: right;\n",
              "    }\n",
              "</style>\n",
              "<table border=\"1\" class=\"dataframe\">\n",
              "  <thead>\n",
              "    <tr style=\"text-align: right;\">\n",
              "      <th></th>\n",
              "      <th>Node0</th>\n",
              "      <th>Node1</th>\n",
              "      <th>Node2</th>\n",
              "      <th>Node3</th>\n",
              "      <th>Node4</th>\n",
              "      <th>Node5</th>\n",
              "      <th>Node6</th>\n",
              "      <th>Node7</th>\n",
              "      <th>Node8</th>\n",
              "      <th>Node9</th>\n",
              "      <th>Node10</th>\n",
              "      <th>Node11</th>\n",
              "      <th>Node12</th>\n",
              "      <th>Node13</th>\n",
              "      <th>Node14</th>\n",
              "      <th>Node15</th>\n",
              "      <th>Node16</th>\n",
              "      <th>Node17</th>\n",
              "      <th>Node18</th>\n",
              "      <th>Node19</th>\n",
              "    </tr>\n",
              "    <tr>\n",
              "      <th>Node</th>\n",
              "      <th></th>\n",
              "      <th></th>\n",
              "      <th></th>\n",
              "      <th></th>\n",
              "      <th></th>\n",
              "      <th></th>\n",
              "      <th></th>\n",
              "      <th></th>\n",
              "      <th></th>\n",
              "      <th></th>\n",
              "      <th></th>\n",
              "      <th></th>\n",
              "      <th></th>\n",
              "      <th></th>\n",
              "      <th></th>\n",
              "      <th></th>\n",
              "      <th></th>\n",
              "      <th></th>\n",
              "      <th></th>\n",
              "      <th></th>\n",
              "    </tr>\n",
              "  </thead>\n",
              "  <tbody>\n",
              "    <tr>\n",
              "      <th>Node0</th>\n",
              "      <td>0</td>\n",
              "      <td>0</td>\n",
              "      <td>0</td>\n",
              "      <td>0</td>\n",
              "      <td>0</td>\n",
              "      <td>1</td>\n",
              "      <td>0</td>\n",
              "      <td>0</td>\n",
              "      <td>0</td>\n",
              "      <td>0</td>\n",
              "      <td>0</td>\n",
              "      <td>0</td>\n",
              "      <td>0</td>\n",
              "      <td>0</td>\n",
              "      <td>0</td>\n",
              "      <td>1</td>\n",
              "      <td>0</td>\n",
              "      <td>0</td>\n",
              "      <td>0</td>\n",
              "      <td>0</td>\n",
              "    </tr>\n",
              "    <tr>\n",
              "      <th>Node1</th>\n",
              "      <td>0</td>\n",
              "      <td>0</td>\n",
              "      <td>0</td>\n",
              "      <td>0</td>\n",
              "      <td>0</td>\n",
              "      <td>1</td>\n",
              "      <td>0</td>\n",
              "      <td>0</td>\n",
              "      <td>0</td>\n",
              "      <td>0</td>\n",
              "      <td>0</td>\n",
              "      <td>1</td>\n",
              "      <td>0</td>\n",
              "      <td>1</td>\n",
              "      <td>0</td>\n",
              "      <td>0</td>\n",
              "      <td>1</td>\n",
              "      <td>0</td>\n",
              "      <td>0</td>\n",
              "      <td>0</td>\n",
              "    </tr>\n",
              "    <tr>\n",
              "      <th>Node2</th>\n",
              "      <td>0</td>\n",
              "      <td>0</td>\n",
              "      <td>0</td>\n",
              "      <td>0</td>\n",
              "      <td>1</td>\n",
              "      <td>1</td>\n",
              "      <td>1</td>\n",
              "      <td>0</td>\n",
              "      <td>0</td>\n",
              "      <td>0</td>\n",
              "      <td>1</td>\n",
              "      <td>0</td>\n",
              "      <td>0</td>\n",
              "      <td>0</td>\n",
              "      <td>0</td>\n",
              "      <td>0</td>\n",
              "      <td>0</td>\n",
              "      <td>0</td>\n",
              "      <td>0</td>\n",
              "      <td>0</td>\n",
              "    </tr>\n",
              "    <tr>\n",
              "      <th>Node3</th>\n",
              "      <td>0</td>\n",
              "      <td>0</td>\n",
              "      <td>0</td>\n",
              "      <td>0</td>\n",
              "      <td>0</td>\n",
              "      <td>0</td>\n",
              "      <td>0</td>\n",
              "      <td>1</td>\n",
              "      <td>0</td>\n",
              "      <td>0</td>\n",
              "      <td>0</td>\n",
              "      <td>0</td>\n",
              "      <td>0</td>\n",
              "      <td>0</td>\n",
              "      <td>0</td>\n",
              "      <td>1</td>\n",
              "      <td>0</td>\n",
              "      <td>0</td>\n",
              "      <td>0</td>\n",
              "      <td>0</td>\n",
              "    </tr>\n",
              "    <tr>\n",
              "      <th>Node4</th>\n",
              "      <td>0</td>\n",
              "      <td>0</td>\n",
              "      <td>1</td>\n",
              "      <td>0</td>\n",
              "      <td>0</td>\n",
              "      <td>0</td>\n",
              "      <td>0</td>\n",
              "      <td>1</td>\n",
              "      <td>1</td>\n",
              "      <td>0</td>\n",
              "      <td>1</td>\n",
              "      <td>0</td>\n",
              "      <td>0</td>\n",
              "      <td>0</td>\n",
              "      <td>0</td>\n",
              "      <td>1</td>\n",
              "      <td>0</td>\n",
              "      <td>0</td>\n",
              "      <td>0</td>\n",
              "      <td>0</td>\n",
              "    </tr>\n",
              "  </tbody>\n",
              "</table>\n",
              "</div>\n",
              "      <button class=\"colab-df-convert\" onclick=\"convertToInteractive('df-29984e87-6ff9-4cc7-b208-161a6a47b099')\"\n",
              "              title=\"Convert this dataframe to an interactive table.\"\n",
              "              style=\"display:none;\">\n",
              "        \n",
              "  <svg xmlns=\"http://www.w3.org/2000/svg\" height=\"24px\"viewBox=\"0 0 24 24\"\n",
              "       width=\"24px\">\n",
              "    <path d=\"M0 0h24v24H0V0z\" fill=\"none\"/>\n",
              "    <path d=\"M18.56 5.44l.94 2.06.94-2.06 2.06-.94-2.06-.94-.94-2.06-.94 2.06-2.06.94zm-11 1L8.5 8.5l.94-2.06 2.06-.94-2.06-.94L8.5 2.5l-.94 2.06-2.06.94zm10 10l.94 2.06.94-2.06 2.06-.94-2.06-.94-.94-2.06-.94 2.06-2.06.94z\"/><path d=\"M17.41 7.96l-1.37-1.37c-.4-.4-.92-.59-1.43-.59-.52 0-1.04.2-1.43.59L10.3 9.45l-7.72 7.72c-.78.78-.78 2.05 0 2.83L4 21.41c.39.39.9.59 1.41.59.51 0 1.02-.2 1.41-.59l7.78-7.78 2.81-2.81c.8-.78.8-2.07 0-2.86zM5.41 20L4 18.59l7.72-7.72 1.47 1.35L5.41 20z\"/>\n",
              "  </svg>\n",
              "      </button>\n",
              "      \n",
              "  <style>\n",
              "    .colab-df-container {\n",
              "      display:flex;\n",
              "      flex-wrap:wrap;\n",
              "      gap: 12px;\n",
              "    }\n",
              "\n",
              "    .colab-df-convert {\n",
              "      background-color: #E8F0FE;\n",
              "      border: none;\n",
              "      border-radius: 50%;\n",
              "      cursor: pointer;\n",
              "      display: none;\n",
              "      fill: #1967D2;\n",
              "      height: 32px;\n",
              "      padding: 0 0 0 0;\n",
              "      width: 32px;\n",
              "    }\n",
              "\n",
              "    .colab-df-convert:hover {\n",
              "      background-color: #E2EBFA;\n",
              "      box-shadow: 0px 1px 2px rgba(60, 64, 67, 0.3), 0px 1px 3px 1px rgba(60, 64, 67, 0.15);\n",
              "      fill: #174EA6;\n",
              "    }\n",
              "\n",
              "    [theme=dark] .colab-df-convert {\n",
              "      background-color: #3B4455;\n",
              "      fill: #D2E3FC;\n",
              "    }\n",
              "\n",
              "    [theme=dark] .colab-df-convert:hover {\n",
              "      background-color: #434B5C;\n",
              "      box-shadow: 0px 1px 3px 1px rgba(0, 0, 0, 0.15);\n",
              "      filter: drop-shadow(0px 1px 2px rgba(0, 0, 0, 0.3));\n",
              "      fill: #FFFFFF;\n",
              "    }\n",
              "  </style>\n",
              "\n",
              "      <script>\n",
              "        const buttonEl =\n",
              "          document.querySelector('#df-29984e87-6ff9-4cc7-b208-161a6a47b099 button.colab-df-convert');\n",
              "        buttonEl.style.display =\n",
              "          google.colab.kernel.accessAllowed ? 'block' : 'none';\n",
              "\n",
              "        async function convertToInteractive(key) {\n",
              "          const element = document.querySelector('#df-29984e87-6ff9-4cc7-b208-161a6a47b099');\n",
              "          const dataTable =\n",
              "            await google.colab.kernel.invokeFunction('convertToInteractive',\n",
              "                                                     [key], {});\n",
              "          if (!dataTable) return;\n",
              "\n",
              "          const docLinkHtml = 'Like what you see? Visit the ' +\n",
              "            '<a target=\"_blank\" href=https://colab.research.google.com/notebooks/data_table.ipynb>data table notebook</a>'\n",
              "            + ' to learn more about interactive tables.';\n",
              "          element.innerHTML = '';\n",
              "          dataTable['output_type'] = 'display_data';\n",
              "          await google.colab.output.renderOutput(dataTable, element);\n",
              "          const docLink = document.createElement('div');\n",
              "          docLink.innerHTML = docLinkHtml;\n",
              "          element.appendChild(docLink);\n",
              "        }\n",
              "      </script>\n",
              "    </div>\n",
              "  </div>\n",
              "  "
            ]
          },
          "metadata": {},
          "execution_count": 52
        }
      ],
      "source": [
        "import pandas as pd\n",
        "\n",
        "df_links = pd.read_csv(\"links.csv\", index_col=\"Node\")\n",
        "df_links.head()"
      ]
    },
    {
      "cell_type": "code",
      "execution_count": null,
      "metadata": {
        "id": "tPkKAYFgXLT5",
        "colab": {
          "base_uri": "https://localhost:8080/",
          "height": 248
        },
        "outputId": "55a165a4-6e0a-4ec6-91ea-be1990616deb"
      },
      "outputs": [
        {
          "output_type": "display_data",
          "data": {
            "text/plain": [
              "<Figure size 432x288 with 1 Axes>"
            ],
            "image/png": "[encoded data removed]"
          },
          "metadata": {}
        }
      ],
      "source": [
        "import networkx as nx \n",
        "import matplotlib.pyplot as plt \n",
        "\n",
        "G = nx.Graph()\n",
        "\n",
        "NUM = len(df_links. index)\n",
        "for i in range(NUM):\n",
        "  node_no = df_links.columns[i].strip(\"Node\")\n",
        "  G.add_node(str(node_no))\n",
        "\n",
        "for i in range(NUM):\n",
        "  for j in range(NUM):\n",
        "    node_name = \"Node\" + str(j)\n",
        "    if df_links[node_name].iloc[i]==1:\n",
        "      G.add_edge(str(i), str(j))\n",
        "\n",
        "nx.draw_networkx(G, node_color=\"k\", edge_color=\"k\", font_color=\"w\")\n",
        "plt.show()"
      ]
    },
    {
      "cell_type": "markdown",
      "metadata": {
        "id": "p3KgUifTXLT6"
      },
      "source": [
        "### ノック72：口コミによる情報伝播の様子を可視化してみよう"
      ]
    },
    {
      "cell_type": "code",
      "execution_count": null,
      "metadata": {
        "id": "wYzhjCfdXLT6"
      },
      "outputs": [],
      "source": [
        "import numpy as np"
      ]
    },
    {
      "cell_type": "code",
      "execution_count": null,
      "metadata": {
        "id": "Surk1RO5XLT7"
      },
      "outputs": [],
      "source": [
        "def determine_link(percent):\n",
        "  rand_val = np.random.rand()\n",
        "  if rand_val<=percent:\n",
        "    return 1\n",
        "  else:\n",
        "    return 0"
      ]
    },
    {
      "cell_type": "code",
      "execution_count": null,
      "metadata": {
        "id": "i2ftpTFIXLT7"
      },
      "outputs": [],
      "source": [
        "def simulate_percolation(num, list_active, percent_percolation):\n",
        "  for i in range(num):\n",
        "    if list_active[i]==1:\n",
        "      for j in range(num):\n",
        "        node_name =\"Node\" + str(j)\n",
        "        if df_links[node_name].iloc[i]==1:\n",
        "          if determine_link(percent_percolation)==1:\n",
        "            list_active[j] = 1\n",
        "  return list_active"
      ]
    },
    {
      "cell_type": "code",
      "execution_count": null,
      "metadata": {
        "id": "eTdeSqs5XLT8"
      },
      "outputs": [],
      "source": [
        "percent_percolation = 0.1\n",
        "T_NUM =36\n",
        "NUM = len(df_links. index)\n",
        "list_active = np.zeros(NUM)\n",
        "list_active[0] = 1\n",
        "\n",
        "list_timeSeries = []\n",
        "for t in range(T_NUM):\n",
        "  list_active = simulate_percolation(NUM, list_active, percent_percolation)\n",
        "  list_timeSeries.append(list_active.copy())\n"
      ]
    },
    {
      "cell_type": "code",
      "execution_count": null,
      "metadata": {
        "id": "QX5LBm-FXLT8"
      },
      "outputs": [],
      "source": [
        "def active_node_coloring(list_active):\n",
        "  list_color = []\n",
        "  for i in range(len(list_timeSeries[t])):\n",
        "    if list_timeSeries[t][i]==1:\n",
        "      list_color.append(\"r\")\n",
        "    else:\n",
        "      list_color.append(\"k\")\n",
        "  return list_color"
      ]
    },
    {
      "cell_type": "code",
      "source": [
        "t = 0\n",
        "nx.draw_networkx(G,font_color=\"w\",node_color=active_node_coloring(list_timeSeries[t]))\n",
        "plt.show()"
      ],
      "metadata": {
        "colab": {
          "base_uri": "https://localhost:8080/",
          "height": 248
        },
        "id": "DwAF13cmNLFh",
        "outputId": "af35b814-39aa-4ba4-8594-0a6b0d68e392"
      },
      "execution_count": null,
      "outputs": [
        {
          "output_type": "display_data",
          "data": {
            "text/plain": [
              "<Figure size 432x288 with 1 Axes>"
            ],
            "image/png": "[encoded data removed]"
          },
          "metadata": {}
        }
      ]
    },
    {
      "cell_type": "code",
      "execution_count": null,
      "metadata": {
        "id": "z2Vc5nrjXLT8",
        "colab": {
          "base_uri": "https://localhost:8080/",
          "height": 248
        },
        "outputId": "a12f2d24-8029-4393-8642-fe686d47536d"
      },
      "outputs": [
        {
          "output_type": "display_data",
          "data": {
            "text/plain": [
              "<Figure size 432x288 with 1 Axes>"
            ],
            "image/png": "[encoded data removed]"
          },
          "metadata": {}
        }
      ],
      "source": [
        "t = 11\n",
        "nx.draw_networkx(G,font_color=\"w\",node_color=active_node_coloring(list_timeSeries[t]))\n",
        "plt.show()"
      ]
    },
    {
      "cell_type": "code",
      "execution_count": null,
      "metadata": {
        "id": "bzCI3hs4XLT9",
        "colab": {
          "base_uri": "https://localhost:8080/",
          "height": 248
        },
        "outputId": "1e0f34f3-20ee-4263-f80d-16c895349a77"
      },
      "outputs": [
        {
          "output_type": "display_data",
          "data": {
            "text/plain": [
              "<Figure size 432x288 with 1 Axes>"
            ],
            "image/png": "[encoded data removed]"
          },
          "metadata": {}
        }
      ],
      "source": [
        "t = 35\n",
        "nx.draw_networkx(G,font_color=\"w\",node_color=active_node_coloring(list_timeSeries[t]))\n",
        "plt.show()"
      ]
    },
    {
      "cell_type": "markdown",
      "metadata": {
        "id": "Zwgb3cltXLT9"
      },
      "source": [
        "### ノック73：口コミ数の時系列変化をグラフ化してみよう"
      ]
    },
    {
      "cell_type": "code",
      "execution_count": null,
      "metadata": {
        "id": "wd9O5KJzXLT9",
        "colab": {
          "base_uri": "https://localhost:8080/",
          "height": 265
        },
        "outputId": "14a1ad4b-4b14-4efc-f76f-55ad23dd2fb8"
      },
      "outputs": [
        {
          "output_type": "display_data",
          "data": {
            "text/plain": [
              "<Figure size 432x288 with 1 Axes>"
            ],
            "image/png": "[encoded data removed]"
          },
          "metadata": {
            "needs_background": "light"
          }
        }
      ],
      "source": [
        "list_timeSeries_num = []\n",
        "for i in range(len(list_timeSeries)):\n",
        "    list_timeSeries_num.append(sum(list_timeSeries[i]))\n",
        "\n",
        "plt.plot(list_timeSeries_num)\n",
        "plt.show()"
      ]
    },
    {
      "cell_type": "markdown",
      "metadata": {
        "id": "z-1MQQnQXLT9"
      },
      "source": [
        "### ノック74：会員数の時系列変化をシミュレーションしてみよう"
      ]
    },
    {
      "cell_type": "code",
      "execution_count": null,
      "metadata": {
        "id": "rLHAXrRRXLT9"
      },
      "outputs": [],
      "source": [
        "def simulate_population(num, list_active, percent_percolation, percent_disapparence, df_links):\n",
        "  for i in range(num):\n",
        "    if list_active[i]==1:\n",
        "      for j in range(num):\n",
        "        node_name = \"Node\" + str(j)\n",
        "        if df_links[node_name].iloc[i]==1:\n",
        "          if determine_link(percent_percolation)==1:\n",
        "            list_active[j]=1\n",
        "\n",
        "  for i in range(num):\n",
        "    if determine_link(percent_disapparence)==1:\n",
        "      list_active[i] = 0\n",
        "  return list_active"
      ]
    },
    {
      "cell_type": "code",
      "execution_count": null,
      "metadata": {
        "id": "WeCwSkWjXLT-"
      },
      "outputs": [],
      "source": [
        "percent_percolation = 0.1\n",
        "percent_disapparence = 0.05\n",
        "T_NUM = 100\n",
        "NUM = len(df_links. index)\n",
        "list_active = np.zeros(NUM)\n",
        "list_active[0] = 1\n",
        "\n",
        "list_timeSeries =[]\n",
        "for t in range(T_NUM):\n",
        "  list_active = simulate_population(NUM, list_active, percent_percolation, percent_disapparence, df_links)\n",
        "  list_timeSeries.append(list_active.copy())"
      ]
    },
    {
      "cell_type": "code",
      "execution_count": null,
      "metadata": {
        "id": "qhOiUoY6XLT-",
        "colab": {
          "base_uri": "https://localhost:8080/",
          "height": 265
        },
        "outputId": "fbbf3a01-c5d0-46b5-d51b-43d4cc4c86b4"
      },
      "outputs": [
        {
          "output_type": "display_data",
          "data": {
            "text/plain": [
              "<Figure size 432x288 with 1 Axes>"
            ],
            "image/png": "[encoded data removed]"
          },
          "metadata": {
            "needs_background": "light"
          }
        }
      ],
      "source": [
        "list_timeSeries_num = []\n",
        "for i in range(len(list_timeSeries)):\n",
        "  list_timeSeries_num.append(sum(list_timeSeries[i]))\n",
        "\n",
        "plt.plot(list_timeSeries_num)\n",
        "plt.show()"
      ]
    },
    {
      "cell_type": "code",
      "execution_count": null,
      "metadata": {
        "id": "FkJ2Sr3zXLT-"
      },
      "outputs": [],
      "source": [
        "percent_disapparence = 0.2\n",
        "list_active = np.zeros(NUM)\n",
        "list_active[0] = 1\n",
        "list_timeSeries = []\n",
        "for t in range(T_NUM):\n",
        "  list_active = simulate_population(NUM, list_active, percent_percolation, percent_disapparence,df_links)\n",
        "  list_timeSeries.append(list_active.copy())"
      ]
    },
    {
      "cell_type": "code",
      "execution_count": null,
      "metadata": {
        "id": "aMkMjqV_XLT-",
        "colab": {
          "base_uri": "https://localhost:8080/",
          "height": 265
        },
        "outputId": "8ff3dcd3-0e5d-44bf-e1e1-5032c3c68725"
      },
      "outputs": [
        {
          "output_type": "display_data",
          "data": {
            "text/plain": [
              "<Figure size 432x288 with 1 Axes>"
            ],
            "image/png": "[encoded data removed]"
          },
          "metadata": {
            "needs_background": "light"
          }
        }
      ],
      "source": [
        "list_timeSeries_num = []\n",
        "for i in range(len(list_timeSeries)):\n",
        "  list_timeSeries_num.append(sum(list_timeSeries[i]))\n",
        "\n",
        "plt.plot(list_timeSeries_num)\n",
        "plt.show()"
      ]
    },
    {
      "cell_type": "markdown",
      "metadata": {
        "id": "nNY5RxPDXLT-"
      },
      "source": [
        "### ノック75：パラメータの全体像を相図を見ながら把握しよう"
      ]
    },
    {
      "cell_type": "code",
      "execution_count": null,
      "metadata": {
        "id": "1RV9llkYXLT_",
        "colab": {
          "base_uri": "https://localhost:8080/"
        },
        "outputId": "2f74bdd7-3463-42e7-eeef-198a6757f1d2"
      },
      "outputs": [
        {
          "output_type": "stream",
          "name": "stdout",
          "text": [
            "相図計算開始\n",
            "[[ 1.  0.  0.  0.  0.  0.  0.  0.  0.  0.  0.  0.  0.  0.  0.  0.  0.  0.\n",
            "   0.  0.]\n",
            " [20. 11.  0.  0.  0.  0.  0.  0.  0.  0.  0.  0.  0.  0.  0.  0.  0.  0.\n",
            "   0.  0.]\n",
            " [20. 17. 11.  0.  0.  0.  0.  0.  0.  0.  0.  0.  0.  0.  0.  0.  0.  0.\n",
            "   0.  0.]\n",
            " [20. 17.  9.  0.  0.  0.  0.  0.  0.  0.  0.  0.  0.  0.  0.  0.  0.  0.\n",
            "   0.  0.]\n",
            " [20. 15. 15. 13. 12.  0.  0.  0.  0.  0.  0.  0.  0.  0.  0.  0.  0.  0.\n",
            "   0.  0.]\n",
            " [20. 19.  0. 16. 10. 16.  9.  0.  0.  0.  0.  0.  0.  0.  0.  0.  0.  0.\n",
            "   0.  0.]\n",
            " [20. 19. 17. 16.  0.  8. 11.  0.  0.  0.  0.  0.  0.  0.  0.  0.  0.  0.\n",
            "   0.  0.]\n",
            " [20. 18. 15. 17. 13.  0. 10.  0.  7.  0.  0.  0.  0.  0.  0.  0.  0.  0.\n",
            "   0.  0.]\n",
            " [20. 19. 17. 18. 16. 17. 18.  9.  5.  9.  0.  0.  0.  0.  0.  0.  0.  0.\n",
            "   0.  0.]\n",
            " [20. 19. 18. 16. 13. 14.  0. 15.  0.  4.  0.  0.  0.  0.  0.  0.  0.  0.\n",
            "   0.  0.]\n",
            " [20. 19.  0. 18. 15. 11. 14. 13. 13.  0.  0.  0.  0.  0.  0.  0.  0.  0.\n",
            "   0.  0.]\n",
            " [20. 19. 18. 17. 11. 14. 15. 14. 11.  8. 10.  0.  0.  0.  0.  0.  0.  0.\n",
            "   0.  0.]\n",
            " [20. 19.  0. 15. 18. 19.  0. 13.  0.  8.  8.  6.  0.  0.  0.  0.  0.  0.\n",
            "   0.  0.]\n",
            " [20. 19. 20. 17. 20. 14. 13. 19. 11.  9. 11.  4.  0.  0.  0.  0.  0.  0.\n",
            "   0.  0.]\n",
            " [20. 19. 18. 15. 13. 14. 15. 12. 11. 12. 10.  7.  0.  0.  0.  0.  0.  0.\n",
            "   0.  0.]\n",
            " [20. 20. 20. 19. 17. 16. 11. 11. 16. 13. 10. 14.  0.  6.  0.  0.  0.  0.\n",
            "   0.  0.]\n",
            " [20. 18. 17. 17. 19. 14.  0. 13. 16.  9. 14.  5.  7.  0.  6.  0.  0.  0.\n",
            "   0.  0.]\n",
            " [20. 19. 18. 18. 17. 15. 14. 12. 12. 12.  8.  5. 10.  7.  0.  0.  0.  0.\n",
            "   0.  0.]\n",
            " [20. 20. 18. 15. 17. 14.  7. 14. 13. 13.  8.  6.  7.  3.  4.  0.  0.  0.\n",
            "   0.  0.]\n",
            " [20. 20. 18. 16. 19. 14. 12. 14. 10. 10.  8.  9.  0.  4.  0.  0.  0.  0.\n",
            "   0.  0.]]\n"
          ]
        }
      ],
      "source": [
        "print(\"相図計算開始\")\n",
        "T_NUM = 100\n",
        "NUM_PhaseDiagram = 20\n",
        "phaseDiagram = np.zeros((NUM_PhaseDiagram,NUM_PhaseDiagram))\n",
        "for i_p in range(NUM_PhaseDiagram):\n",
        "    for i_d in range(NUM_PhaseDiagram):\n",
        "        percent_percolation = 0.05*i_p\n",
        "        percent_disapparence = 0.05*i_d\n",
        "        list_active = np.zeros(NUM)\n",
        "        list_active[0] = 1\n",
        "        for t in range(T_NUM):\n",
        "            list_active = simulate_population(NUM, list_active, percent_percolation, percent_disapparence,df_links)\n",
        "        phaseDiagram[i_p][i_d] = sum(list_active)\n",
        "print(phaseDiagram)"
      ]
    },
    {
      "cell_type": "code",
      "execution_count": null,
      "metadata": {
        "id": "Yx27DrAEXLT_",
        "colab": {
          "base_uri": "https://localhost:8080/",
          "height": 241
        },
        "outputId": "ed6b8457-e9cc-497b-87ab-6770d69e3135"
      },
      "outputs": [
        {
          "output_type": "display_data",
          "data": {
            "text/plain": [
              "<Figure size 288x288 with 2 Axes>"
            ],
            "image/png": "[encoded data removed]"
          },
          "metadata": {
            "needs_background": "light"
          }
        }
      ],
      "source": [
        "plt.matshow(phaseDiagram)\n",
        "plt.colorbar(shrink=0.8)\n",
        "plt.xlabel('percent_disapparence')\n",
        "plt.ylabel('percent_percolation')\n",
        "plt.xticks(np.arange(0.0, 20.0,5), np.arange(0.0, 1.0, 0.25))\n",
        "plt.yticks(np.arange(0.0, 20.0,5), np.arange(0.0, 1.0, 0.25))\n",
        "plt.tick_params(bottom=False,\n",
        "                left=False,\n",
        "                right=False,\n",
        "                top=False)\n",
        "plt.show()"
      ]
    },
    {
      "cell_type": "markdown",
      "metadata": {
        "id": "EN7NtQd_XLT_"
      },
      "source": [
        "### ノック76：実データを読み込んでみよう"
      ]
    },
    {
      "cell_type": "code",
      "execution_count": null,
      "metadata": {
        "id": "cnf1JOAUXLT_",
        "colab": {
          "base_uri": "https://localhost:8080/",
          "height": 267
        },
        "outputId": "de571120-22c5-4c7a-e178-7f33765444cc"
      },
      "outputs": [
        {
          "output_type": "execute_result",
          "data": {
            "text/plain": [
              "       Node0  Node1  Node2  Node3  Node4  Node5  Node6  Node7  Node8  Node9  \\\n",
              "Node                                                                          \n",
              "Node0      0      0      1      0      0      0      0      0      0      0   \n",
              "Node1      0      0      0      0      1      1      0      0      0      0   \n",
              "Node2      1      0      0      0      0      1      0      1      0      0   \n",
              "Node3      0      0      0      0      0      0      1      0      0      0   \n",
              "Node4      0      1      0      0      0      1      0      0      0      0   \n",
              "\n",
              "       ...  Node530  Node531  Node532  Node533  Node534  Node535  Node536  \\\n",
              "Node   ...                                                                  \n",
              "Node0  ...        0        0        0        0        0        0        0   \n",
              "Node1  ...        0        1        1        0        0        0        0   \n",
              "Node2  ...        0        0        1        0        1        0        0   \n",
              "Node3  ...        0        0        0        0        0        0        0   \n",
              "Node4  ...        0        0        0        1        1        0        0   \n",
              "\n",
              "       Node537  Node538  Node539  \n",
              "Node                              \n",
              "Node0        0        0        0  \n",
              "Node1        0        0        0  \n",
              "Node2        1        1        0  \n",
              "Node3        0        0        0  \n",
              "Node4        0        1        0  \n",
              "\n",
              "[5 rows x 540 columns]"
            ],
            "text/html": [
              "\n",
              "  <div id=\"df-7b0fb798-aa28-41ce-9355-b1264528663b\">\n",
              "    <div class=\"colab-df-container\">\n",
              "      <div>\n",
              "<style scoped>\n",
              "    .dataframe tbody tr th:only-of-type {\n",
              "        vertical-align: middle;\n",
              "    }\n",
              "\n",
              "    .dataframe tbody tr th {\n",
              "        vertical-align: top;\n",
              "    }\n",
              "\n",
              "    .dataframe thead th {\n",
              "        text-align: right;\n",
              "    }\n",
              "</style>\n",
              "<table border=\"1\" class=\"dataframe\">\n",
              "  <thead>\n",
              "    <tr style=\"text-align: right;\">\n",
              "      <th></th>\n",
              "      <th>Node0</th>\n",
              "      <th>Node1</th>\n",
              "      <th>Node2</th>\n",
              "      <th>Node3</th>\n",
              "      <th>Node4</th>\n",
              "      <th>Node5</th>\n",
              "      <th>Node6</th>\n",
              "      <th>Node7</th>\n",
              "      <th>Node8</th>\n",
              "      <th>Node9</th>\n",
              "      <th>...</th>\n",
              "      <th>Node530</th>\n",
              "      <th>Node531</th>\n",
              "      <th>Node532</th>\n",
              "      <th>Node533</th>\n",
              "      <th>Node534</th>\n",
              "      <th>Node535</th>\n",
              "      <th>Node536</th>\n",
              "      <th>Node537</th>\n",
              "      <th>Node538</th>\n",
              "      <th>Node539</th>\n",
              "    </tr>\n",
              "    <tr>\n",
              "      <th>Node</th>\n",
              "      <th></th>\n",
              "      <th></th>\n",
              "      <th></th>\n",
              "      <th></th>\n",
              "      <th></th>\n",
              "      <th></th>\n",
              "      <th></th>\n",
              "      <th></th>\n",
              "      <th></th>\n",
              "      <th></th>\n",
              "      <th></th>\n",
              "      <th></th>\n",
              "      <th></th>\n",
              "      <th></th>\n",
              "      <th></th>\n",
              "      <th></th>\n",
              "      <th></th>\n",
              "      <th></th>\n",
              "      <th></th>\n",
              "      <th></th>\n",
              "      <th></th>\n",
              "    </tr>\n",
              "  </thead>\n",
              "  <tbody>\n",
              "    <tr>\n",
              "      <th>Node0</th>\n",
              "      <td>0</td>\n",
              "      <td>0</td>\n",
              "      <td>1</td>\n",
              "      <td>0</td>\n",
              "      <td>0</td>\n",
              "      <td>0</td>\n",
              "      <td>0</td>\n",
              "      <td>0</td>\n",
              "      <td>0</td>\n",
              "      <td>0</td>\n",
              "      <td>...</td>\n",
              "      <td>0</td>\n",
              "      <td>0</td>\n",
              "      <td>0</td>\n",
              "      <td>0</td>\n",
              "      <td>0</td>\n",
              "      <td>0</td>\n",
              "      <td>0</td>\n",
              "      <td>0</td>\n",
              "      <td>0</td>\n",
              "      <td>0</td>\n",
              "    </tr>\n",
              "    <tr>\n",
              "      <th>Node1</th>\n",
              "      <td>0</td>\n",
              "      <td>0</td>\n",
              "      <td>0</td>\n",
              "      <td>0</td>\n",
              "      <td>1</td>\n",
              "      <td>1</td>\n",
              "      <td>0</td>\n",
              "      <td>0</td>\n",
              "      <td>0</td>\n",
              "      <td>0</td>\n",
              "      <td>...</td>\n",
              "      <td>0</td>\n",
              "      <td>1</td>\n",
              "      <td>1</td>\n",
              "      <td>0</td>\n",
              "      <td>0</td>\n",
              "      <td>0</td>\n",
              "      <td>0</td>\n",
              "      <td>0</td>\n",
              "      <td>0</td>\n",
              "      <td>0</td>\n",
              "    </tr>\n",
              "    <tr>\n",
              "      <th>Node2</th>\n",
              "      <td>1</td>\n",
              "      <td>0</td>\n",
              "      <td>0</td>\n",
              "      <td>0</td>\n",
              "      <td>0</td>\n",
              "      <td>1</td>\n",
              "      <td>0</td>\n",
              "      <td>1</td>\n",
              "      <td>0</td>\n",
              "      <td>0</td>\n",
              "      <td>...</td>\n",
              "      <td>0</td>\n",
              "      <td>0</td>\n",
              "      <td>1</td>\n",
              "      <td>0</td>\n",
              "      <td>1</td>\n",
              "      <td>0</td>\n",
              "      <td>0</td>\n",
              "      <td>1</td>\n",
              "      <td>1</td>\n",
              "      <td>0</td>\n",
              "    </tr>\n",
              "    <tr>\n",
              "      <th>Node3</th>\n",
              "      <td>0</td>\n",
              "      <td>0</td>\n",
              "      <td>0</td>\n",
              "      <td>0</td>\n",
              "      <td>0</td>\n",
              "      <td>0</td>\n",
              "      <td>1</td>\n",
              "      <td>0</td>\n",
              "      <td>0</td>\n",
              "      <td>0</td>\n",
              "      <td>...</td>\n",
              "      <td>0</td>\n",
              "      <td>0</td>\n",
              "      <td>0</td>\n",
              "      <td>0</td>\n",
              "      <td>0</td>\n",
              "      <td>0</td>\n",
              "      <td>0</td>\n",
              "      <td>0</td>\n",
              "      <td>0</td>\n",
              "      <td>0</td>\n",
              "    </tr>\n",
              "    <tr>\n",
              "      <th>Node4</th>\n",
              "      <td>0</td>\n",
              "      <td>1</td>\n",
              "      <td>0</td>\n",
              "      <td>0</td>\n",
              "      <td>0</td>\n",
              "      <td>1</td>\n",
              "      <td>0</td>\n",
              "      <td>0</td>\n",
              "      <td>0</td>\n",
              "      <td>0</td>\n",
              "      <td>...</td>\n",
              "      <td>0</td>\n",
              "      <td>0</td>\n",
              "      <td>0</td>\n",
              "      <td>1</td>\n",
              "      <td>1</td>\n",
              "      <td>0</td>\n",
              "      <td>0</td>\n",
              "      <td>0</td>\n",
              "      <td>1</td>\n",
              "      <td>0</td>\n",
              "    </tr>\n",
              "  </tbody>\n",
              "</table>\n",
              "<p>5 rows × 540 columns</p>\n",
              "</div>\n",
              "      <button class=\"colab-df-convert\" onclick=\"convertToInteractive('df-7b0fb798-aa28-41ce-9355-b1264528663b')\"\n",
              "              title=\"Convert this dataframe to an interactive table.\"\n",
              "              style=\"display:none;\">\n",
              "        \n",
              "  <svg xmlns=\"http://www.w3.org/2000/svg\" height=\"24px\"viewBox=\"0 0 24 24\"\n",
              "       width=\"24px\">\n",
              "    <path d=\"M0 0h24v24H0V0z\" fill=\"none\"/>\n",
              "    <path d=\"M18.56 5.44l.94 2.06.94-2.06 2.06-.94-2.06-.94-.94-2.06-.94 2.06-2.06.94zm-11 1L8.5 8.5l.94-2.06 2.06-.94-2.06-.94L8.5 2.5l-.94 2.06-2.06.94zm10 10l.94 2.06.94-2.06 2.06-.94-2.06-.94-.94-2.06-.94 2.06-2.06.94z\"/><path d=\"M17.41 7.96l-1.37-1.37c-.4-.4-.92-.59-1.43-.59-.52 0-1.04.2-1.43.59L10.3 9.45l-7.72 7.72c-.78.78-.78 2.05 0 2.83L4 21.41c.39.39.9.59 1.41.59.51 0 1.02-.2 1.41-.59l7.78-7.78 2.81-2.81c.8-.78.8-2.07 0-2.86zM5.41 20L4 18.59l7.72-7.72 1.47 1.35L5.41 20z\"/>\n",
              "  </svg>\n",
              "      </button>\n",
              "      \n",
              "  <style>\n",
              "    .colab-df-container {\n",
              "      display:flex;\n",
              "      flex-wrap:wrap;\n",
              "      gap: 12px;\n",
              "    }\n",
              "\n",
              "    .colab-df-convert {\n",
              "      background-color: #E8F0FE;\n",
              "      border: none;\n",
              "      border-radius: 50%;\n",
              "      cursor: pointer;\n",
              "      display: none;\n",
              "      fill: #1967D2;\n",
              "      height: 32px;\n",
              "      padding: 0 0 0 0;\n",
              "      width: 32px;\n",
              "    }\n",
              "\n",
              "    .colab-df-convert:hover {\n",
              "      background-color: #E2EBFA;\n",
              "      box-shadow: 0px 1px 2px rgba(60, 64, 67, 0.3), 0px 1px 3px 1px rgba(60, 64, 67, 0.15);\n",
              "      fill: #174EA6;\n",
              "    }\n",
              "\n",
              "    [theme=dark] .colab-df-convert {\n",
              "      background-color: #3B4455;\n",
              "      fill: #D2E3FC;\n",
              "    }\n",
              "\n",
              "    [theme=dark] .colab-df-convert:hover {\n",
              "      background-color: #434B5C;\n",
              "      box-shadow: 0px 1px 3px 1px rgba(0, 0, 0, 0.15);\n",
              "      filter: drop-shadow(0px 1px 2px rgba(0, 0, 0, 0.3));\n",
              "      fill: #FFFFFF;\n",
              "    }\n",
              "  </style>\n",
              "\n",
              "      <script>\n",
              "        const buttonEl =\n",
              "          document.querySelector('#df-7b0fb798-aa28-41ce-9355-b1264528663b button.colab-df-convert');\n",
              "        buttonEl.style.display =\n",
              "          google.colab.kernel.accessAllowed ? 'block' : 'none';\n",
              "\n",
              "        async function convertToInteractive(key) {\n",
              "          const element = document.querySelector('#df-7b0fb798-aa28-41ce-9355-b1264528663b');\n",
              "          const dataTable =\n",
              "            await google.colab.kernel.invokeFunction('convertToInteractive',\n",
              "                                                     [key], {});\n",
              "          if (!dataTable) return;\n",
              "\n",
              "          const docLinkHtml = 'Like what you see? Visit the ' +\n",
              "            '<a target=\"_blank\" href=https://colab.research.google.com/notebooks/data_table.ipynb>data table notebook</a>'\n",
              "            + ' to learn more about interactive tables.';\n",
              "          element.innerHTML = '';\n",
              "          dataTable['output_type'] = 'display_data';\n",
              "          await google.colab.output.renderOutput(dataTable, element);\n",
              "          const docLink = document.createElement('div');\n",
              "          docLink.innerHTML = docLinkHtml;\n",
              "          element.appendChild(docLink);\n",
              "        }\n",
              "      </script>\n",
              "    </div>\n",
              "  </div>\n",
              "  "
            ]
          },
          "metadata": {},
          "execution_count": 73
        }
      ],
      "source": [
        "df_mem_links = pd.read_csv(\"links_members.csv\", index_col=\"Node\")\n",
        "df_mem_info = pd.read_csv(\"info_members.csv\", index_col=\"Node\")\n",
        "df_mem_links.head()"
      ]
    },
    {
      "cell_type": "markdown",
      "metadata": {
        "id": "WoBNPvATXLT_"
      },
      "source": [
        "### ノック77：リンク数の分布を可視化しよう"
      ]
    },
    {
      "cell_type": "code",
      "execution_count": null,
      "metadata": {
        "id": "e50QK2tiXLT_"
      },
      "outputs": [],
      "source": [
        "NUM = len(df_mem_links.index)\n",
        "array_linkNum = np.zeros(NUM)\n",
        "for i in range(NUM):\n",
        "    array_linkNum[i] = sum(df_mem_links[\"Node\"+str(i)])"
      ]
    },
    {
      "cell_type": "code",
      "execution_count": null,
      "metadata": {
        "id": "yL0V1rSRXLT_",
        "colab": {
          "base_uri": "https://localhost:8080/",
          "height": 265
        },
        "outputId": "6ce92533-de17-418c-dce9-b2f12d243e27"
      },
      "outputs": [
        {
          "output_type": "display_data",
          "data": {
            "text/plain": [
              "<Figure size 432x288 with 1 Axes>"
            ],
            "image/png": "[encoded data removed]"
          },
          "metadata": {
            "needs_background": "light"
          }
        }
      ],
      "source": [
        "plt.hist(array_linkNum, bins=10,range=(0,250))\n",
        "plt.show()"
      ]
    },
    {
      "cell_type": "markdown",
      "metadata": {
        "id": "E-X1IexRXLUA"
      },
      "source": [
        "### ノック78：シミュレーションのために実データからパラメータを推定しよう"
      ]
    },
    {
      "cell_type": "code",
      "execution_count": null,
      "metadata": {
        "id": "ZMsE4Z5DXLUA"
      },
      "outputs": [],
      "source": [
        "NUM = len(df_mem_info. index)\n",
        "T_NUM = len(df_mem_info.columns)-1\n",
        "\n",
        "count_active = 0\n",
        "count_active_to_inactive = 0\n",
        "for t in range(T_NUM):\n",
        "  for i in range(NUM):\n",
        "    if (df_mem_info.iloc[i][t]==1):\n",
        "      count_active_to_inactive += 1\n",
        "      if (df_mem_info.iloc[i][t+1]==0):\n",
        "        count_active += 1\n",
        "estimated_percent_disapparence =count_active/count_active_to_inactive"
      ]
    },
    {
      "cell_type": "code",
      "execution_count": null,
      "metadata": {
        "id": "jVqvee6eXLUA"
      },
      "outputs": [],
      "source": [
        "count_link = 0\n",
        "count_link_to_active = 0\n",
        "count_link_temp = 0\n",
        "for t in range(T_NUM):\n",
        "    df_link_t = df_mem_info[df_mem_info[str(t)]==1]\n",
        "    temp_flag_count = np.zeros(NUM)\n",
        "    for i in range(len(df_link_t.index)):\n",
        "        index_i = int(df_link_t.index[i].replace(\"Node\",\"\"))\n",
        "        df_link_temp = df_mem_links[df_mem_links[\"Node\"+str(index_i)]==1]\n",
        "        for j in range(len(df_link_temp.index)):\n",
        "            index_j = int(df_link_temp.index[j].replace(\"Node\",\"\"))\n",
        "            if (df_mem_info.iloc[index_j][t]==0):\n",
        "                if (temp_flag_count[index_j]==0):\n",
        "                    count_link += 1\n",
        "                if (df_mem_info.iloc[index_j][t+1]==1):\n",
        "                    if (temp_flag_count[index_j]==0):\n",
        "                        temp_flag_count[index_j] = 1 \n",
        "                        count_link_to_active += 1\n",
        "estimated_percent_percolation = count_link_to_active/count_link"
      ]
    },
    {
      "cell_type": "code",
      "execution_count": null,
      "metadata": {
        "id": "_Jv9x-i1XLUA",
        "colab": {
          "base_uri": "https://localhost:8080/"
        },
        "outputId": "aec557fd-bc78-493e-d193-ce27030141ff"
      },
      "outputs": [
        {
          "output_type": "execute_result",
          "data": {
            "text/plain": [
              "0.10147163541419416"
            ]
          },
          "metadata": {},
          "execution_count": 79
        }
      ],
      "source": [
        "estimated_percent_disapparence"
      ]
    },
    {
      "cell_type": "code",
      "execution_count": null,
      "metadata": {
        "id": "Py6kvOngXLUA",
        "colab": {
          "base_uri": "https://localhost:8080/"
        },
        "outputId": "1a81d337-da15-4034-c651-b4e290c7e03b"
      },
      "outputs": [
        {
          "output_type": "execute_result",
          "data": {
            "text/plain": [
              "0.039006364196263604"
            ]
          },
          "metadata": {},
          "execution_count": 80
        }
      ],
      "source": [
        "estimated_percent_percolation"
      ]
    },
    {
      "cell_type": "markdown",
      "metadata": {
        "id": "LeMY5ekeXLUA"
      },
      "source": [
        "### ノック79：実データとシミュレーションを比較しよう"
      ]
    },
    {
      "cell_type": "code",
      "execution_count": null,
      "metadata": {
        "id": "nDLCDF18XLUA"
      },
      "outputs": [],
      "source": [
        "percent_percolation = 0.039006364196263604\n",
        "percent_disapparence = 0.10147163541419416\n",
        "T_NUM = 24\n",
        "NUM = len(df_mem_links.index)\n",
        "list_active = np.zeros(NUM)\n",
        "list_active[0] = 1\n",
        "list_timeSeries = []\n",
        "for t in range(T_NUM):\n",
        "  list_active = simulate_population(NUM, list_active, percent_percolation, percent_disapparence, df_mem_links)\n",
        "  list_timeSeries.append(list_active.copy())"
      ]
    },
    {
      "cell_type": "code",
      "execution_count": null,
      "metadata": {
        "id": "4md0CTXTXLUA"
      },
      "outputs": [],
      "source": [
        "list_timeSeries_num = []\n",
        "for i in range(len(list_timeSeries)):\n",
        "  list_timeSeries_num.append(sum(list_timeSeries[i]))"
      ]
    },
    {
      "cell_type": "code",
      "execution_count": null,
      "metadata": {
        "id": "NXG8sZR8XLUA"
      },
      "outputs": [],
      "source": [
        "T_NUM = len(df_mem_info.columns)-1\n",
        "list_timeSeries_num_real =[]\n",
        "for t in range(0,T_NUM):\n",
        "  list_timeSeries_num_real.append(len(df_mem_info[df_mem_info[str(t)]==1].index))\n"
      ]
    },
    {
      "cell_type": "code",
      "execution_count": null,
      "metadata": {
        "colab": {
          "base_uri": "https://localhost:8080/",
          "height": 279
        },
        "id": "4wHNMScDXLUB",
        "outputId": "fb5ec9a7-713d-48ae-c111-0d47611559ae"
      },
      "outputs": [
        {
          "output_type": "display_data",
          "data": {
            "text/plain": [
              "<Figure size 432x288 with 1 Axes>"
            ],
            "image/png": "[encoded data removed]"
          },
          "metadata": {
            "needs_background": "light"
          }
        }
      ],
      "source": [
        "plt.plot(list_timeSeries_num, label = 'simulated')\n",
        "plt.plot(list_timeSeries_num_real, label = 'real')\n",
        "plt.xlabel('month')\n",
        "plt.ylabel('population')\n",
        "plt.legend(loc='lower right')\n",
        "plt.show()"
      ]
    },
    {
      "cell_type": "markdown",
      "metadata": {
        "id": "CVNR8gL-XLUB"
      },
      "source": [
        "### ノック80：シミュレーションによる将来予測を実施しよう"
      ]
    },
    {
      "cell_type": "code",
      "execution_count": null,
      "metadata": {
        "id": "jmsJKX5SXLUB"
      },
      "outputs": [],
      "source": [
        "percent_percolation = 0.039006364196263604\n",
        "percent_disapparence = 0.10147163541419416\n",
        "T_NUM = 36\n",
        "NUM = len(df_mem_links.index)\n",
        "list_active = np.zeros(NUM)\n",
        "list_active[0] = 1\n",
        "list_timeSeries = []\n",
        "for t in range(T_NUM):\n",
        "    list_active = simulate_population(NUM, list_active, percent_percolation, percent_disapparence,df_mem_links)\n",
        "    list_timeSeries.append(list_active.copy())"
      ]
    },
    {
      "cell_type": "code",
      "execution_count": null,
      "metadata": {
        "id": "PLerEPkpXLUB"
      },
      "outputs": [],
      "source": [
        "list_timeSeries_num = []\n",
        "for i in range(len(list_timeSeries)):\n",
        "    list_timeSeries_num.append(sum(list_timeSeries[i]))"
      ]
    },
    {
      "cell_type": "code",
      "execution_count": null,
      "metadata": {
        "id": "TjPYx6FKXLUB",
        "colab": {
          "base_uri": "https://localhost:8080/",
          "height": 279
        },
        "outputId": "5c48cc73-de7b-4b27-f8a3-86ec9707b3ac"
      },
      "outputs": [
        {
          "output_type": "display_data",
          "data": {
            "text/plain": [
              "<Figure size 432x288 with 1 Axes>"
            ],
            "image/png": "[encoded data removed]"
          },
          "metadata": {
            "needs_background": "light"
          }
        }
      ],
      "source": [
        "plt.plot(list_timeSeries_num, label = 'simulated')\n",
        "plt.xlabel('month')\n",
        "plt.ylabel('population')\n",
        "plt.legend(loc='lower right')\n",
        "plt.show()"
      ]
    }
  ],
  "metadata": {
    "colab": {
      "provenance": [],
      "include_colab_link": true
    },
    "kernelspec": {
      "display_name": "Python 3",
      "language": "python",
      "name": "python3"
    },
    "language_info": {
      "codemirror_mode": {
        "name": "ipython",
        "version": 3
      },
      "file_extension": ".py",
      "mimetype": "text/x-python",
      "name": "python",
      "nbconvert_exporter": "python",
      "pygments_lexer": "ipython3",
      "version": "3.7.3"
    }
  },
  "nbformat": 4,
  "nbformat_minor": 0
}